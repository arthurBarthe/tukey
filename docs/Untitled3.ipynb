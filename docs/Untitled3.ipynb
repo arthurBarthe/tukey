{
 "cells": [
  {
   "cell_type": "code",
   "execution_count": 24,
   "id": "2d960b7f",
   "metadata": {},
   "outputs": [],
   "source": [
    "import numpy as np\n",
    "from scipy.stats import norm\n",
    "from numpy.random import rand"
   ]
  },
  {
   "cell_type": "code",
   "execution_count": 20,
   "id": "3ad646f7",
   "metadata": {},
   "outputs": [],
   "source": [
    "n = 512\n",
    "n_steps = 20\n",
    "\n",
    "y = []\n",
    "dist = bernoulli(0.4)\n",
    "\n",
    "for i in range(n):\n",
    "    left, right = 0, 1\n",
    "    l = right - left\n",
    "    for j in range(n_steps):\n",
    "        l = l / 2\n",
    "        left_or_right = dist.rvs()\n",
    "        if left_or_right == 0:\n",
    "            right -= l\n",
    "        else:\n",
    "            left += l\n",
    "    y.append((left + right) / 2)\n",
    "\n",
    "y = np.array(y)"
   ]
  },
  {
   "cell_type": "code",
   "execution_count": 21,
   "id": "74c1f7ff",
   "metadata": {},
   "outputs": [],
   "source": [
    "import matplotlib.pyplot as plt"
   ]
  },
  {
   "cell_type": "code",
   "execution_count": 22,
   "id": "13cd373c",
   "metadata": {},
   "outputs": [
    {
     "data": {
      "text/plain": [
       "(array([110.,  61.,  44.,  52.,  35.,  80.,  45.,  37.,  29.,  19.]),\n",
       " array([0.00225401, 0.10159502, 0.20093603, 0.30027704, 0.39961805,\n",
       "        0.49895906, 0.59830008, 0.69764109, 0.7969821 , 0.89632311,\n",
       "        0.99566412]),\n",
       " <BarContainer object of 10 artists>)"
      ]
     },
     "execution_count": 22,
     "metadata": {},
     "output_type": "execute_result"
    },
    {
     "data": {
      "image/png": "[encoded data removed]",
      "text/plain": [
       "<Figure size 640x480 with 1 Axes>"
      ]
     },
     "metadata": {},
     "output_type": "display_data"
    }
   ],
   "source": [
    "plt.hist(y)"
   ]
  },
  {
   "cell_type": "code",
   "execution_count": null,
   "id": "b93282d2",
   "metadata": {},
   "outputs": [],
   "source": [
    "for i in range(n):\n",
    "    u = rand()\n",
    "    left, right = -5, 5\n",
    "    l = right - left\n",
    "    for j in range(n_steps):\n",
    "        "
   ]
  }
 ],
 "metadata": {
  "kernelspec": {
   "display_name": "tukey",
   "language": "python",
   "name": "tukey"
  },
  "language_info": {
   "codemirror_mode": {
    "name": "ipython",
    "version": 3
   },
   "file_extension": ".py",
   "mimetype": "text/x-python",
   "name": "python",
   "nbconvert_exporter": "python",
   "pygments_lexer": "ipython3",
   "version": "3.8.10"
  }
 },
 "nbformat": 4,
 "nbformat_minor": 5
}
